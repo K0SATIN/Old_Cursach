{
  "nbformat": 4,
  "nbformat_minor": 0,
  "metadata": {
    "colab": {
      "provenance": [],
      "authorship_tag": "ABX9TyNUJpWmGprxdFN0mHehlAOC",
      "include_colab_link": true
    },
    "kernelspec": {
      "name": "python3",
      "display_name": "Python 3"
    },
    "language_info": {
      "name": "python"
    }
  },
  "cells": [
    {
      "cell_type": "markdown",
      "metadata": {
        "id": "view-in-github",
        "colab_type": "text"
      },
      "source": [
        "<a href=\"https://colab.research.google.com/github/K0SATIN/Old_Cursach/blob/master/Numpy_solutions.ipynb\" target=\"_parent\"><img src=\"https://colab.research.google.com/assets/colab-badge.svg\" alt=\"Open In Colab\"/></a>"
      ]
    },
    {
      "cell_type": "code",
      "execution_count": null,
      "metadata": {
        "id": "yWxcYXvKhPfV"
      },
      "outputs": [],
      "source": [
        "print('Сколько уже можно тянуть, давай начнём!')"
      ]
    },
    {
      "cell_type": "code",
      "source": [
        "import numpy as np\n",
        "def array_output(a):\n",
        "  print()\n",
        "  print(a)"
      ],
      "metadata": {
        "id": "kjHazE8e3stB"
      },
      "execution_count": 30,
      "outputs": []
    },
    {
      "cell_type": "code",
      "source": [
        "\n",
        "a = np.zeros(10)\n",
        "b = np.ones(10)\n",
        "c = np.full(10, 5)\n",
        "d = np.arange(10, 50)\n",
        "e = np.arange(10, 50, 2)\n",
        "f = np.arange(0, 9)\n",
        "f.resize(3,3)\n",
        "g = np.random.random()\n",
        "h = np.random.normal(0, 1, 15)\n",
        "i = np.arange(0.01, 1+0.01, 0.01)\n",
        "i.resize(10,10)"
      ],
      "metadata": {
        "id": "KA_Kwf-Ohr_t"
      },
      "execution_count": 31,
      "outputs": []
    },
    {
      "cell_type": "code",
      "source": [
        "mat = np.arange(1,26).reshape(5,5)\n",
        "array_output(mat)\n",
        "array_output(mat[2:, 1:])\n",
        "array_output(mat[3, 4])\n",
        "array_output(mat[:3, 1])\n",
        "array_output(mat[4:, :])\n",
        "array_output(mat[3:, :])\n",
        "array_output(mat.sum())\n",
        "array_output(np.std(mat))\n",
        "array_output(mat.sum(axis = 0))"
      ],
      "metadata": {
        "colab": {
          "base_uri": "https://localhost:8080/"
        },
        "id": "JUBt5OjQqiFF",
        "outputId": "95e3e6da-0190-4aa5-ecdf-c624e1db95cb"
      },
      "execution_count": 32,
      "outputs": [
        {
          "output_type": "stream",
          "name": "stdout",
          "text": [
            "\n",
            "[[ 1  2  3  4  5]\n",
            " [ 6  7  8  9 10]\n",
            " [11 12 13 14 15]\n",
            " [16 17 18 19 20]\n",
            " [21 22 23 24 25]]\n",
            "\n",
            "[[12 13 14 15]\n",
            " [17 18 19 20]\n",
            " [22 23 24 25]]\n",
            "\n",
            "20\n",
            "\n",
            "[ 2  7 12]\n",
            "\n",
            "[[21 22 23 24 25]]\n",
            "\n",
            "[[16 17 18 19 20]\n",
            " [21 22 23 24 25]]\n",
            "\n",
            "325\n",
            "\n",
            "7.211102550927978\n",
            "\n",
            "[55 60 65 70 75]\n"
          ]
        }
      ]
    }
  ]
}